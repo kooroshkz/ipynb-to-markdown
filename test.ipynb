{
 "cells": [
  {
   "cell_type": "markdown",
   "metadata": {},
   "source": [
    "## Introduction to Propositional Logic"
   ]
  },
  {
   "cell_type": "markdown",
   "metadata": {},
   "source": [
    "### Dictionary\n",
    "\n",
    "| Word | Defenition          |\n",
    "|------------|---------------|\n",
    "| Proposition | A statement that expresses a judgment or opinion.     |\n",
    "| Absurdity   | Meaningless                                           |\n",
    "| Conventions | An agreement between people that assumes something.   |\n",
    "| Derive      | obtain or receive something from a source or origin   |\n"
   ]
  },
  {
   "cell_type": "markdown",
   "metadata": {},
   "source": [
    "| Connective | Name          | Pronunciation | Intuitive Meaning                          |\n",
    "|------------|---------------|---------------|--------------------------------------------|\n",
    "| ⊥          | Absurdity     | bottom        | ⊥ never holds (e.g., \"The sky is blue and not blue\" -> logically false) |\n",
    "| ∧          | Conjunction   | and           | Both hold                                  |\n",
    "| ∨          | Disjunction   | or            | φ or ψ or both hold                        |\n",
    "| →          | Implication   | φ implies ψ   | If φ holds, then ψ holds                   |\n",
    "| ¬φ         | Negation      | φ -> ⊥        |                                            |\n",
    "| ⊤          | Truth or Top  | ¬⊥            | Always true (e.g., \"A triangle has 3 vertices\")|\n",
    "| φ ↔ ψ      | Bi-implication|(φ -> ψ) ∧ (ψ -> φ)| True when both are same        |\n",
    "\n",
    "\n"
   ]
  },
  {
   "cell_type": "markdown",
   "metadata": {},
   "source": [
    "| Connective | Equivalent          | Contradiction |\n",
    "|------------|---------------|---------------|\n",
    "| $p \\to q$  |$\\neg p \\lor q$   | $ p \\land \\neg q$ |\n",
    "| $\\neg(p \\to q)$ | $ p \\land \\neg q$   | $\\neg p \\lor q$  |\n",
    "\n"
   ]
  },
  {
   "cell_type": "markdown",
   "metadata": {},
   "source": [
    "In the parse tree, ¬p will always be p → ⊥.\n",
    "\n",
    "φ = q ∧ ~p → r → s = ( q ∧ ( p → ⊥ ) ) → ( r → s )\n",
    "Sub(φ) = { φ, r, p, q, s, ⊥,\n",
    "p → ⊥, q ∧ ( p → ⊥ ), r → s } \n",
    "\n",
    "Top-level connective: ∧ \n",
    "\n",
    "Direct subformulas: p, q \n",
    "\n",
    "Atomic formula: ⊥ \n",
    "\n",
    "Subformulas of 𝜑: all the formulas that appear in the parse tree of 𝜑, including 𝜑 itself  \n",
    "\n",
    "Set of maps (𝐵^𝐴): 𝐴 → 𝐵 \n",
    "\n",
    "Powerset: P(𝐴) = {𝑈 | 𝑈 ⊆ 𝐴} \n",
    "\n",
    "Natural Numbers: [𝑛] = {𝑘 ∈ N | 𝑘 < 𝑛} [0] = ∅, [1] = {0}\n"
   ]
  }
 ],
 "metadata": {
  "kernelspec": {
   "display_name": "base",
   "language": "python",
   "name": "python3"
  },
  "language_info": {
   "codemirror_mode": {
    "name": "ipython",
    "version": 3
   },
   "file_extension": ".py",
   "mimetype": "text/x-python",
   "name": "python",
   "nbconvert_exporter": "python",
   "pygments_lexer": "ipython3",
   "version": "3.9.18"
  }
 },
 "nbformat": 4,
 "nbformat_minor": 2
}
